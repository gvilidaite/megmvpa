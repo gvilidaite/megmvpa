{
 "cells": [
  {
   "cell_type": "markdown",
   "metadata": {
    "collapsed": true
   },
   "source": [
    "# MVPA MEG Tutorial\n",
    "\n",
    "[work in progress]\n",
    "\n",
    "This tutorial accompanies the preprint titled \"Multivariate pattern analysis for MEG: a comprehensive comparison of dissimilarity measures\", which is available at [placeholder](http://doi.org/).\n",
    "\n",
    "* [Python tutorial](https://github.com/m-guggenmos/megmvpa/blob/master/tutorial_python.ipynb)\n",
    "* [Matlab tutorial (in preparation)](https://github.com/m-guggenmos/megmvpa/blob/master/tutorial_matlab.m)"
   ]
  },
  {
   "cell_type": "code",
   "execution_count": null,
   "metadata": {
    "collapsed": true
   },
   "outputs": [],
   "source": []
  }
 ],
 "metadata": {
  "kernelspec": {
   "display_name": "Python 2",
   "language": "python",
   "name": "python2"
  },
  "language_info": {
   "codemirror_mode": {
    "name": "ipython",
    "version": 3
   },
   "file_extension": ".py",
   "mimetype": "text/x-python",
   "name": "python",
   "nbconvert_exporter": "python",
   "pygments_lexer": "ipython3",
   "version": "3.6.1"
  }
 },
 "nbformat": 4,
 "nbformat_minor": 1
}
