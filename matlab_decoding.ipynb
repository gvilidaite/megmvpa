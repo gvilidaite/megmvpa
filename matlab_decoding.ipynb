{
 "cells": [
  {
   "cell_type": "markdown",
   "metadata": {},
   "source": [
    "# MVPA MEG Tutorial (Matlab)\n",
    "For the Python tutorial, see [here](https://github.com/m-guggenmos/megmvpa/blob/master/tutorial_python.ipynb)."
   ]
  },
  {
   "cell_type": "markdown",
   "metadata": {},
   "source": [
    "[work in progress]\n",
    "\n",
    "This tutorial accompanies the preprint titled \"Multivariate pattern analysis for MEG: a comprehensive comparison of dissimilarity measures\", which is available at [placeholder](http://doi.org/).\n",
    "\n",
    "In this initial tutorial, we will cover SVM classification and show how to obtain 1) classification accuracy time courses, 2) representational dissimilarity matrices (RDMs), and 3) compute the intersession-reliability for RDMs.\n",
    "\n",
    "\n",
    "### Preparation\n",
    "\n",
    "The custom code for this tutorial can be downloaded as a zip file from [placeholder](https://github.com/m-guggenmos/megmvpa/blob/master/example.ipynb). This zip file includes the example dataset used for this tutorial, which can be separately downloaded from [placeholder](https://github.com/m-guggenmos/megmvpa/blob/master/example.ipynb). To reduce computational costs for the tutorial, the dataset is for one participant only and includes only 10 of 92 experimental conditions.\n",
    "In addition, the zip file contains the following python files underlying the tutorial: \n",
    "\n",
    "File | Description\n",
    "--- | --- \n",
    "tutorial.m | _the main tutorial code_\n",
    "cv.m | _containing code for pseudo-trials/permutations/cross-validation_\n",
    "\n",
    "\n",
    "The Weighted Robust Distance classifier (WeiRD), one of the classifiers highlighted in the manuscript, is likewise included in the zip file (weirdtrain.m and weirdpredict.m). If you're only interested in WeiRD, see [here](https://github.com/m-guggenmos/weird).\n",
    "\n",
    "### Tutorial\n",
    "We set a seed, in order to make analyses reproducible:"
   ]
  },
  {
   "cell_type": "code",
   "execution_count": 2,
   "metadata": {
    "collapsed": true
   },
   "outputs": [],
   "source": [
    "rng(10);"
   ]
  }
 ],
 "metadata": {
  "kernelspec": {
   "display_name": "Matlab",
   "language": "matlab",
   "name": "matlab"
  },
  "language_info": {
   "codemirror_mode": "octave",
   "file_extension": ".m",
   "help_links": [
    {
     "text": "MetaKernel Magics",
     "url": "https://github.com/calysto/metakernel/blob/master/metakernel/magics/README.md"
    }
   ],
   "mimetype": "text/x-matlab",
   "name": "matlab",
   "version": "0.14.3"
  }
 },
 "nbformat": 4,
 "nbformat_minor": 2
}
