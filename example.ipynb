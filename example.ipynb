{
 "cells": [
  {
   "cell_type": "markdown",
   "metadata": {
    "collapsed": true
   },
   "source": [
    "# MVPA MEG Tutorial (Python)"
   ]
  },
  {
   "cell_type": "markdown",
   "metadata": {
    "collapsed": true
   },
   "source": [
    "[work in progress]\n",
    "\n",
    "This tutorial accompanies the preprint titled \"Multivariate pattern analysis for MEG: a comprehensive comparison of dissimilarity measures\", which is available at [placeholder](http://doi.org/).\n",
    "\n",
    "In this initial tutorial, we will cover SVM classification and show how to obtain 1) classification accuracy time courses, 2) representational dissimilarity matrices (RDMs), and 3) compute the intersession-reliability for RDMs.\n",
    "\n",
    "\n",
    "Four packages are required, which should be available in most scientific python installations: numpy, scipy, scikit-learn and matplotlib. Should you be interested in using WeiRD, one of the classifiers highlighted in the manuscript, see [here](https://github.com/m-guggenmos/weird).\n",
    "\n",
    "We start with some imports:"
   ]
  },
  {
   "cell_type": "code",
   "execution_count": 1,
   "metadata": {
    "collapsed": true
   },
   "outputs": [],
   "source": [
    "import pickle\n",
    "import os\n",
    "\n",
    "import numpy as np\n",
    "import scipy\n",
    "from sklearn.svm import SVC\n",
    "from sklearn.discriminant_analysis import _cov\n",
    "from cv import ShuffleBinLeaveOneOut"
   ]
  },
  {
   "cell_type": "markdown",
   "metadata": {},
   "source": [
    "We set a seed, in order to make analyses reproducible:"
   ]
  },
  {
   "cell_type": "code",
   "execution_count": 2,
   "metadata": {
    "collapsed": true
   },
   "outputs": [],
   "source": [
    "np.random.seed(10)"
   ]
  },
  {
   "cell_type": "markdown",
   "metadata": {},
   "source": [
    "Let's load some data:"
   ]
  },
  {
   "cell_type": "code",
   "execution_count": 3,
   "metadata": {
    "collapsed": true
   },
   "outputs": [],
   "source": [
    "root = '' # This is the /path/to the directory containing the data.\n",
    "          # We leave it empty here, because the data is located in the current directory.\n",
    "\n",
    "# Load data and trial labels for the two sessions of participant 01\n",
    "sessions = [\n",
    "    # Session 1\n",
    "    dict(\n",
    "        data=pickle.load(open(os.path.join(root, 'data01_sess1_bs10.pkl'), 'rb')),\n",
    "        # data has shape n_trials x n_sensors x n_timepoints\n",
    "        labels=pickle.load(open(os.path.join(root, 'labels01_sess1.pkl'), 'rb'))\n",
    "        # labels has shape 1 x n_trials (i.e., one condition label [object category] per trial)\n",
    "    ),\n",
    "    # Session 2\n",
    "    dict(\n",
    "        data=pickle.load(open(os.path.join(root, 'data01_sess2_bs10.pkl'), 'rb')),\n",
    "        labels=pickle.load(open(os.path.join(root, 'labels01_sess2.pkl'), 'rb'))\n",
    "    )\n",
    "]"
   ]
  },
  {
   "cell_type": "markdown",
   "metadata": {},
   "source": [
    "Now we set some parameters. Only the number of permutations and the number of pseudo-trials are free parameters. The number of conditions, sensors, time points and sessions are derived from the data (i.e., from the `sessions` variable above)."
   ]
  },
  {
   "cell_type": "code",
   "execution_count": 4,
   "metadata": {
    "collapsed": true
   },
   "outputs": [],
   "source": [
    "# Parameters\n",
    "n_perm = 20  # number of permutations\n",
    "n_pseudo = 5  # number of pseudo-trials\n",
    "n_conditions = len(np.unique(sessions[0]['labels']))\n",
    "n_sensors = sessions[0]['data'].shape[1]\n",
    "n_time = sessions[0]['data'].shape[2]\n",
    "n_sessions = len(sessions)"
   ]
  },
  {
   "cell_type": "markdown",
   "metadata": {},
   "source": [
    "We select a Support Vector Machine as a classifier (`SVC` in scikit-learn). Examples for other classifiers are in the comments."
   ]
  },
  {
   "cell_type": "code",
   "execution_count": 5,
   "metadata": {
    "collapsed": true
   },
   "outputs": [],
   "source": [
    "# Choose classifier\n",
    "clf = SVC(kernel='linear')\n",
    "# from sklearn.discriminant_analysis import LinearDiscriminantAnalysis\n",
    "# clf = LinearDiscriminantAnalysis()\n",
    "# from sklearn.naive_bayes import GaussianNB\n",
    "# clf = GaussianNB()\n",
    "# from weird import WeiRD\n",
    "# clf = WeiRD()"
   ]
  },
  {
   "cell_type": "markdown",
   "metadata": {},
   "source": [
    "We choose our partitioning scheme, here `ShuffleBinLeaveOneOut`. This class will provide the trial-to-pseudo-trial assignments for each permutation. We'll define the class object already at this point:"
   ]
  },
  {
   "cell_type": "code",
   "execution_count": 6,
   "metadata": {
    "collapsed": true
   },
   "outputs": [],
   "source": [
    "# Choose data partitioning scheme\n",
    "CV = ShuffleBinLeaveOneOut"
   ]
  },
  {
   "cell_type": "markdown",
   "metadata": {
    "collapsed": true
   },
   "source": [
    "The analytic logic is contained in a nested for loop, with loops for the number of sessions, number of permutations, number of timepoints, number of conditions, and number of conditions again. Overall, the logic contains 5 crucial steps:\n",
    "1. Compute pseudo-trials for the training and test data\n",
    "2. Whiten the training data (here using the Epoch method, which is recommended in our manuscript)\n",
    "3. Fit the classifier to the training data\n",
    "4. Predict samples from the test data\n",
    "5. Compute the dissimilarity (here classification accuracy) for the current condition pair and store in RDM."
   ]
  },
  {
   "cell_type": "code",
   "execution_count": 7,
   "metadata": {
    "collapsed": true
   },
   "outputs": [],
   "source": [
    "# pre-load mechanism, for convenience\n",
    "preload_RDM = True\n",
    "if preload_RDM:\n",
    "    RDM = pickle.load(open(os.path.join(root, 'RDM.pkl'), 'rb'))\n",
    "else:\n",
    "    RDM = np.full((n_sessions, n_perm, n_conditions, n_conditions, n_time), np.nan)\n",
    "    for s, session in enumerate(sessions):\n",
    "\n",
    "        print('Session %g / %g' % (s + 1, n_sessions))\n",
    "\n",
    "        X = session['data']\n",
    "        y = session['labels']\n",
    "\n",
    "        cv = CV(y, n_iter=n_perm, n_pseudo=n_pseudo)\n",
    "\n",
    "        for f, (train_indices, test_indices) in enumerate(cv.split(X)):\n",
    "            print('\\tPermutation %g / %g' % (f + 1, n_perm))\n",
    "\n",
    "            # 1. Compute pseudo-trials for training and test\n",
    "            Xpseudo_train = np.full((len(train_indices), n_sensors, n_time), np.nan)\n",
    "            Xpseudo_test = np.full((len(test_indices), n_sensors, n_time), np.nan)\n",
    "            for i, ind in enumerate(train_indices):\n",
    "                Xpseudo_train[i, :, :] = np.mean(X[ind, :, :], axis=0)\n",
    "            for i, ind in enumerate(test_indices):\n",
    "                Xpseudo_test[i, :, :] = np.mean(X[ind, :, :], axis=0)\n",
    "\n",
    "\n",
    "            # 2. Whitening using the Epoch method\n",
    "            sigma_conditions = cv.labels_pseudo_train[0, :, n_pseudo-1:].flatten()\n",
    "            sigma_ = np.empty((n_conditions, n_sensors, n_sensors))\n",
    "            for c in range(n_conditions):\n",
    "                # compute sigma for each time point, then average across time\n",
    "                sigma_[c] = np.mean([_cov(Xpseudo_train[sigma_conditions==c, :, t], shrinkage='auto')\n",
    "                                     for t in range(n_time)], axis=0)\n",
    "            sigma = sigma_.mean(axis=0)  # average across conditions\n",
    "            sigma_inv = scipy.linalg.fractional_matrix_power(sigma, -0.5)\n",
    "            Xpseudo_train = (Xpseudo_train.swapaxes(1, 2) @ sigma_inv).swapaxes(1, 2)\n",
    "            Xpseudo_test = (Xpseudo_test.swapaxes(1, 2) @ sigma_inv).swapaxes(1, 2)\n",
    "\n",
    "            for t in range(n_time):\n",
    "                for c1 in range(n_conditions-1):\n",
    "                    for c2 in range(min(c1 + 1, n_conditions-1), n_conditions):\n",
    "                            # 3. Fit the classifier using training data\n",
    "                            data_train = Xpseudo_train[cv.ind_pseudo_train[c1, c2], :, t]\n",
    "                            clf.fit(data_train, cv.labels_pseudo_train[c1, c2])\n",
    "\n",
    "                            # 4. Compute predictions using test data\n",
    "                            data_test = Xpseudo_test[cv.ind_pseudo_test[c1, c2], :, t]\n",
    "                            predictions = clf.predict(data_test)\n",
    "\n",
    "                            # 5. Compute dissimilarity and store in RDM\n",
    "                            dissimilarity = np.mean(predictions == cv.labels_pseudo_test[c1, c2]) - 0.5\n",
    "                            RDM[s, f, c1, c2, t] = np.mean(dissimilarity)\n",
    "    # average across permutations\n",
    "    RDM_av = np.nanmean(RDM, axis=1)\n",
    "    pickle.dump(RDM_av, open(os.path.join(root, 'RDM.pkl'), 'wb'))"
   ]
  },
  {
   "cell_type": "markdown",
   "metadata": {},
   "source": [
    "Ok, after computing the RDMs for each session and each timepoint, let's take a look at the data. For this, we use matplotlib."
   ]
  },
  {
   "cell_type": "code",
   "execution_count": 8,
   "metadata": {
    "collapsed": true
   },
   "outputs": [],
   "source": [
    "import matplotlib.pyplot as plt\n",
    "%matplotlib inline"
   ]
  },
  {
   "cell_type": "markdown",
   "metadata": {},
   "source": [
    "Let's take a look at the structure of `RDM`:"
   ]
  },
  {
   "cell_type": "code",
   "execution_count": 9,
   "metadata": {},
   "outputs": [
    {
     "data": {
      "text/plain": [
       "(2, 10, 10, 130)"
      ]
     },
     "execution_count": 9,
     "metadata": {},
     "output_type": "execute_result"
    }
   ],
   "source": [
    "RDM.shape"
   ]
  },
  {
   "cell_type": "markdown",
   "metadata": {},
   "source": [
    "The variable `RDM` contains a 10x10 RDM for 2 sessions and 130 time points.\n",
    "\n",
    "In a first step, we plot the average classification accuracy time course. For this, we collapse across sessions and conditions of the RDM:"
   ]
  },
  {
   "cell_type": "code",
   "execution_count": 10,
   "metadata": {},
   "outputs": [
    {
     "data": {
      "text/plain": [
       "<matplotlib.text.Text at 0x7f21c2ff10f0>"
      ]
     },
     "execution_count": 10,
     "metadata": {},
     "output_type": "execute_result"
    },
    {
     "data": {
      "image/png": "[encoded data removed]",
      "text/plain": [
       "<matplotlib.figure.Figure at 0x7f21f59275f8>"
      ]
     },
     "metadata": {},
     "output_type": "display_data"
    }
   ],
   "source": [
    "plt.plot(np.arange(-100, 1200, 10), 100*np.nanmean(RDM, axis=(0, 1, 2))+50)\n",
    "plt.plot([-100, 1000], [50, 50], 'k-')\n",
    "plt.xlim((-100, 1000))\n",
    "plt.xlabel('Time [ms]', fontsize=15)\n",
    "plt.ylabel('Classification accuracy', fontsize=15)"
   ]
  },
  {
   "cell_type": "markdown",
   "metadata": {},
   "source": [
    "Looks not too bad, does it? Note that the period -100ms to 0ms is the baseline phase and stimulus onset is at 0ms. Peak classification in this example is at around 120ms, which is in the range of the group average.\n",
    "\n",
    "In a second step, we compute the session-to-session reliability (pattern reliability and sum-of-squares[SSQ] reliability):"
   ]
  },
  {
   "cell_type": "code",
   "execution_count": 11,
   "metadata": {
    "collapsed": true
   },
   "outputs": [],
   "source": [
    "reliability_pearson = np.full(n_time, np.nan)\n",
    "reliability_ssq = np.full(n_time, np.nan)\n",
    "for t in range(n_time):\n",
    "    d1 = RDM[0, :, :, t][np.isfinite(RDM[0, :, :, t])]\n",
    "    d2 = RDM[1, :, :, t][np.isfinite(RDM[1, :, :, t])]\n",
    "    reliability_pearson[t] = scipy.stats.pearsonr(d1, d2)[0]\n",
    "    reliability_ssq[t] = 1 - np.sqrt(scipy.stats.stats._sum_of_squares(d1-d2)) / np.sqrt(np.sum(d1**2 + d2**2))"
   ]
  },
  {
   "cell_type": "markdown",
   "metadata": {},
   "source": [
    "And plot across time:"
   ]
  },
  {
   "cell_type": "code",
   "execution_count": 12,
   "metadata": {},
   "outputs": [
    {
     "data": {
      "text/plain": [
       "<matplotlib.legend.Legend at 0x7f21c2f25c50>"
      ]
     },
     "execution_count": 12,
     "metadata": {},
     "output_type": "execute_result"
    },
    {
     "data": {
      "image/png": "[encoded data removed]",
      "text/plain": [
       "<matplotlib.figure.Figure at 0x7f21c2fe0b70>"
      ]
     },
     "metadata": {},
     "output_type": "display_data"
    }
   ],
   "source": [
    "plt.plot(np.arange(-100, 1200, 10), reliability_pearson, label='Pattern')\n",
    "plt.plot(np.arange(-100, 1200, 10), reliability_ssq, label='SSQ')\n",
    "plt.xlim((-100, 1000))\n",
    "plt.xlabel('Time [ms]', fontsize=15)\n",
    "plt.ylabel('Reliability', fontsize=15)\n",
    "plt.legend()"
   ]
  },
  {
   "cell_type": "markdown",
   "metadata": {},
   "source": [
    "We see, that the pattern reliability is noisier compared to the SSQ reliability. In addition, we can anticipate that SSQ reliability will be higher than pattern reliability for classification. In fact, the low pattern reliability is a specific problem of classification and is due to the loss of information, when computing the binary correctness of predictions."
   ]
  },
  {
   "cell_type": "markdown",
   "metadata": {},
   "source": [
    "tbc"
   ]
  },
  {
   "cell_type": "code",
   "execution_count": null,
   "metadata": {
    "collapsed": true
   },
   "outputs": [],
   "source": []
  },
  {
   "cell_type": "code",
   "execution_count": null,
   "metadata": {
    "collapsed": true
   },
   "outputs": [],
   "source": []
  }
 ],
 "metadata": {
  "kernelspec": {
   "display_name": "Python 3",
   "language": "python",
   "name": "python3"
  },
  "language_info": {
   "codemirror_mode": {
    "name": "ipython",
    "version": 3
   },
   "file_extension": ".py",
   "mimetype": "text/x-python",
   "name": "python",
   "nbconvert_exporter": "python",
   "pygments_lexer": "ipython3",
   "version": "3.6.1"
  }
 },
 "nbformat": 4,
 "nbformat_minor": 1
}
