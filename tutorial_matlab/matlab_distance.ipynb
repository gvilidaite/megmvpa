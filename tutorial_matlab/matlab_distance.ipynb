{
 "cells": [
  {
   "cell_type": "markdown",
   "metadata": {
    "collapsed": true
   },
   "source": [
    "# MVPA MEG Tutorial (Matlab): Distance measures and cross-validation"
   ]
  },
  {
   "cell_type": "markdown",
   "metadata": {
    "collapsed": true
   },
   "source": [
    "[Tutorial starting page](https://github.com/m-guggenmos/megmvpa/).\n",
    "\n",
    "This tutorial accompanies the preprint titled \"Multivariate pattern analysis for MEG: a comprehensive comparison of dissimilarity measures\", which is available at [doi.org/10.1101/172619](https://doi.org/10.1101/172619).\n",
    "\n",
    "**Goal of this tutorial:** comparison of Euclidean and Pearson distance measures + cross-validation.\n",
    "\n",
    "## Tutorial\n",
    "\n",
    "We set a seed, in order to make analyses reproducible:"
   ]
  },
  {
   "cell_type": "code",
   "execution_count": 1,
   "metadata": {
    "collapsed": true
   },
   "outputs": [],
   "source": [
    "rng(10);"
   ]
  },
  {
   "cell_type": "markdown",
   "metadata": {},
   "source": [
    "Let's load some data:"
   ]
  },
  {
   "cell_type": "code",
   "execution_count": 2,
   "metadata": {
    "collapsed": true
   },
   "outputs": [],
   "source": [
    "root = ''; % This is the /path/to the directory containing the data.\n",
    "           % We leave it empty here, because the data is located in the current directory.\n",
    "\n",
    "% Load data and trial labels for the two sessions of participant 01\n",
    "\n",
    "% Session 1\n",
    "load(fullfile(root, 'data01_sess1.mat'));\n",
    "load(fullfile(root, 'labels01_sess1.mat'));\n",
    "sessions(1).data = data01_sess1;\n",
    "sessions(1).labels = labels01_sess1;\n",
    "% Session 2\n",
    "load(fullfile(root, 'data01_sess2.mat'));\n",
    "load(fullfile(root, 'labels01_sess2.mat'));\n",
    "sessions(2).data = data01_sess2;\n",
    "sessions(2).labels = labels01_sess2;"
   ]
  },
  {
   "cell_type": "markdown",
   "metadata": {},
   "source": [
    "Now we set some parameters. Only the number of permutations and the number of pseudo-trials are free parameters. The number of conditions, sensors, time points and sessions are derived from the data (i.e., from the `sessions` variable above)."
   ]
  },
  {
   "cell_type": "code",
   "execution_count": 3,
   "metadata": {
    "collapsed": true
   },
   "outputs": [],
   "source": [
    "% Parameters\n",
    "n_perm = 20;  % number of permutations\n",
    "n_pseudo = 5;  % number of pseudo-trials\n",
    "n_conditions = length(unique(sessions(1).labels));\n",
    "n_sensors = size(sessions(1).data, 2);\n",
    "n_time = size(sessions(1).data, 3);\n",
    "n_sessions = length(sessions);"
   ]
  },
  {
   "cell_type": "markdown",
   "metadata": {},
   "source": [
    "### Non-cross-validated distances\n",
    "\n",
    "We start with computing non-cross-validated distances (`ec` and `ps`). For this, the analytic logic is contained in a nested for loop, with loops for the number of sessions, number of permutations, number of timepoints, number of conditions, and number of conditions again. Overall, the logic contains 3 crucial steps:\n",
    "1. Compute pseudo-trials for the training and test data\n",
    "2. Whiten the training data (here using the Epoch method, which is recommended in our manuscript)\n",
    "3. Apply distance measure to the data"
   ]
  },
  {
   "cell_type": "code",
   "execution_count": 5,
   "metadata": {},
   "outputs": [],
   "source": [
    "% pre-load mechanism, for convenience\n",
    "preload_result = true; % for recomputing the decoding analyses, set to false\n",
    "if preload_result\n",
    "    load(fullfile(root, 'result_distance.mat'))\n",
    "else\n",
    "    clfs = {'ec', 'ps'};\n",
    "    for c = 1:length(clfs)\n",
    "        result.(clfs{c}) = nan(n_sessions, n_perm, n_conditions, n_conditions, n_time);\n",
    "    end\n",
    "    for s = 1:n_sessions\n",
    "\n",
    "        fprintf('Session %g / %g\\n', s, n_sessions)\n",
    "\n",
    "        X = sessions(s).data;\n",
    "        y = sessions(s).labels;\n",
    "        \n",
    "        conditions = unique(y);\n",
    "        n_trials = histc(y, conditions);\n",
    "\n",
    "        for f = 1:n_perm\n",
    "            fprintf('\\tPermutation %g / %g\\n', f, n_perm)\n",
    "            \n",
    "            % precompute permutations\n",
    "            ind_pseudo = nan(n_conditions, n_conditions, 2*n_pseudo);\n",
    "            labels_pseudo = nan(n_conditions, n_conditions, 2*n_pseudo);\n",
    "            for c1 = 1:n_conditions\n",
    "                range_c1 = (c1-1)*n_pseudo+1:c1*n_pseudo;\n",
    "                for c2 = 1:n_conditions\n",
    "                    range_c2 = (c2-1)*n_pseudo+1:c2*n_pseudo;\n",
    "                    ind_pseudo(c1, c2, 1:2*n_pseudo) = [range_c1 range_c2];\n",
    "                    labels_pseudo(c1, c2, 1:2*n_pseudo) = ...\n",
    "                        [conditions(c1)*ones(1, n_pseudo) conditions(c2)*ones(1, n_pseudo)];\n",
    "                end\n",
    "            end         \n",
    "            \n",
    "            test_indices = cell(1, n_conditions*n_pseudo);\n",
    "            for c1 = 1:n_conditions  % separate permutation for each class\n",
    "                prm_ = randperm(n_trials(c1));                \n",
    "                prm = cell(1, n_pseudo);\n",
    "                splitsize = n_trials(c1) / n_pseudo;\n",
    "                for i = 1:n_pseudo\n",
    "                    idxs = floor(round((i-1)*splitsize)):floor(round((i)*splitsize))-1;\n",
    "                    prm{i} = prm_(idxs + 1);\n",
    "                end                                \n",
    "                ind = cellfun(@(x)x+sum(n_trials(1:c1-1)), prm, 'UniformOutput', 0);\n",
    "                xrange = (c1-1)*n_pseudo+1:c1*n_pseudo;\n",
    "                for i = 1:length(xrange)\n",
    "                    test_indices{xrange(i)} = ind{i};\n",
    "                end\n",
    "            end\n",
    "            \n",
    "            % 1. Compute pseudo-trials for training and test\n",
    "            Xpseudo = nan(length(test_indices), n_sensors, n_time);\n",
    "            for i = 1:length(test_indices)\n",
    "                Xpseudo(i, :, :) = mean(X(test_indices{i}, :, :), 1);\n",
    "            end\n",
    "\n",
    "            % 2. Whitening using the Epoch method\n",
    "            sigma_conditions = reshape(squeeze(labels_pseudo(1, :, n_pseudo+1:end))', 1, []);\n",
    "            sigma_ = nan(n_conditions, n_sensors, n_sensors);\n",
    "            for c = 1:n_conditions\n",
    "                % compute sigma for each time point, then average across time\n",
    "                tmp_ = nan(n_time, n_sensors, n_sensors);\n",
    "                for t = 1:n_time\n",
    "                    tmp_(t, :, :) = covCor(Xpseudo(sigma_conditions==c, :, t));\n",
    "                end\n",
    "                sigma_(c, :, :) = mean(tmp_, 1);\n",
    "            end\n",
    "            sigma = squeeze(mean(sigma_, 1));  % average across conditions\n",
    "            sigma_inv = sigma^-0.5;\n",
    "            for t = 1:n_time\n",
    "                Xpseudo(:, :, t) = squeeze(Xpseudo(:, :, t)) * sigma_inv;\n",
    "            end\n",
    "\n",
    "            for t = 1:n_time\n",
    "                for c1 = 1:n_conditions-1\n",
    "                    for c2 = c1+1:n_conditions                        \n",
    "                        % 3. Apply distance measure to the data\n",
    "                        data = Xpseudo(ind_pseudo(c1, c2, :), :, t);\n",
    "                        y = squeeze(labels_pseudo(c1, c2, :));\n",
    "                        classes = unique(y);\n",
    "                        result.ec(s, f, c1, c2, t) = pdist2(mean(data(y==classes(1), :), 1),...\n",
    "                                                            mean(data(y==classes(2), :), 1),...\n",
    "                                                            'squaredeuclidean');\n",
    "                        result.ps(s, f, c1, c2, t) = pdist2(mean(data(y==classes(1), :), 1),...\n",
    "                                                            mean(data(y==classes(2), :), 1),...\n",
    "                                                            'correlation');\n",
    "                    end\n",
    "                end\n",
    "            end\n",
    "        end\n",
    "    end\n",
    "    % average across permutations\n",
    "    for c = 1:length(clfs)\n",
    "        result_.(clfs{c}) = nan(n_sessions, n_perm, n_conditions, n_conditions, n_time);\n",
    "    end \n",
    "    result_.ec = squeeze(nanmean(result.ec, 2));\n",
    "    result_.ps = squeeze(nanmean(result.ps, 2));\n",
    "    result = result_;\n",
    "    save(fullfile(root, 'result_distance.mat'), 'result')\n",
    "end"
   ]
  },
  {
   "cell_type": "markdown",
   "metadata": {},
   "source": [
    "To take a look at the results."
   ]
  },
  {
   "cell_type": "code",
   "execution_count": 7,
   "metadata": {},
   "outputs": [
    {
     "data": {
      "image/png": "[encoded data removed]",
      "text/plain": [
       "<IPython.core.display.Image object>"
      ]
     },
     "metadata": {},
     "output_type": "display_data"
    }
   ],
   "source": [
    "subplot(211)\n",
    "plot(-100:10:1001, squeeze(nanmean(nanmean(nanmean(result.ec, 1), 2), 3)), 'linewidth', 2)\n",
    "xlim([-100 1000])\n",
    "xlabel('Time [ms]')\n",
    "ylabel('Euclidean distance')\n",
    "legend('Euclidean', 'location', 'SouthEast')\n",
    "\n",
    "subplot(212)\n",
    "plot(-100:10:1001, squeeze(nanmean(nanmean(nanmean(result.ps, 1), 2), 3)), 'linewidth', 2)\n",
    "xlim([-100 1000])\n",
    "ylim([0.4, 1.1])\n",
    "xlabel('Time [ms]')\n",
    "ylabel('Pearson distance')\n",
    "legend('Pearson', 'location', 'SouthEast')"
   ]
  },
  {
   "cell_type": "markdown",
   "metadata": {},
   "source": [
    "**Euclidean distance:** the Euclidean distance rises shortly after stimulus onset (at 0ms) and until it reaches a maximum. Interestingly, the distance remains at this maximum after stimulus offset (at 500ms) until the end of the epoch, although the condition-specific information content [drops to zero](https://github.com/m-guggenmos/megmvpa/blob/master/tutorial_matlab/matlab_decoding.ipynb) towards the end of the trial. This indicates that the non-cross-validated Euclidean distance is not only influenced by condition-specific differences in activation patterns, but also by noise.\n",
    "\n",
    "**Pearson distance:** the Pearson distance _decreases_ after stimulus onset, corresponding to an increase of the correlation between condition-specific activation patterns (note that the Pearson distance is defined as 1−r). Thus, activation patterns in fact get more similar after stimulus onset, which intuitively seems surprising, since the [decoding analysis](https://github.com/m-guggenmos/megmvpa/blob/master/tutorial_matlab/matlab_decoding.ipynb) shows that they also get more distinct. In contrast to the Euclidean distance, the Pearson approaches its baseline value towards the end of the trial."
   ]
  },
  {
   "cell_type": "markdown",
   "metadata": {
    "collapsed": true
   },
   "source": [
    "### Cross-validated distances\n",
    "\n",
    "We now turn to cross-validated measures. Here too, the analytic logic is contained in a nested for loop, with loops for the number of sessions, number of permutations, number of timepoints, number of conditions, and number of conditions again. Overall, the logic contains 4 crucial steps:\n",
    "1. Compute pseudo-trials for the training and test data\n",
    "2. Whiten the training data (here using the Epoch method, which is recommended in our manuscript)\n",
    "3. Apply distance measure to training data\n",
    "4. Validate distance measure on testing data"
   ]
  },
  {
   "cell_type": "code",
   "execution_count": 8,
   "metadata": {
    "collapsed": true
   },
   "outputs": [],
   "source": [
    "% pre-load mechanism, for convenience\n",
    "preload_result = true; % for recomputing the decoding analyses, set to false\n",
    "if preload_result\n",
    "    load(fullfile(root, 'result_distance_cv.mat'))\n",
    "else\n",
    "    clfs = {'ec_cv', 'ps_cv'};\n",
    "    for c = 1:length(clfs)\n",
    "        result_cv.(clfs{c}) = nan(n_sessions, n_perm, n_conditions, n_conditions, n_time);\n",
    "    end\n",
    "    for s = 1:n_sessions\n",
    "\n",
    "        fprintf('Session %g / %g\\n', s, n_sessions)\n",
    "\n",
    "        X = sessions(s).data;\n",
    "        y = sessions(s).labels;\n",
    "        \n",
    "        conditions = unique(y);\n",
    "        n_trials = histc(y, conditions);\n",
    "\n",
    "        for f = 1:n_perm\n",
    "            fprintf('\\tPermutation %g / %g\\n', f, n_perm)\n",
    "            \n",
    "            % precompute permutations\n",
    "            ind_pseudo_train = nan(n_conditions, n_conditions, 2*(n_pseudo-1));\n",
    "            ind_pseudo_test = nan(n_conditions, n_conditions, 2);\n",
    "            labels_pseudo_train = nan(n_conditions, n_conditions, 2*(n_pseudo-1));\n",
    "            labels_pseudo_test = nan(n_conditions, n_conditions, 2);\n",
    "            for c1 = 1:n_conditions\n",
    "                range_c1 = (c1-1)*(n_pseudo-1)+1:c1*(n_pseudo-1);\n",
    "                for c2 = 1:n_conditions\n",
    "                    range_c2 = (c2-1)*(n_pseudo-1)+1:c2*(n_pseudo-1);\n",
    "                    ind_pseudo_train(c1, c2, 1:2*(n_pseudo - 1)) = [range_c1 range_c2];\n",
    "                    ind_pseudo_test(c1, c2, :) = [c1 c2];\n",
    "                    labels_pseudo_train(c1, c2, 1:2*(n_pseudo - 1)) = ...\n",
    "                        [conditions(c1)*ones(1, n_pseudo - 1) conditions(c2)*ones(1, n_pseudo - 1)];\n",
    "                    labels_pseudo_test(c1, c2, :) = conditions([c1 c2]);\n",
    "                end\n",
    "            end              \n",
    "            train_indices = cell(1, n_conditions*(n_pseudo-1));\n",
    "            test_indices = cell(1, n_conditions);\n",
    "            for c1 = 1:n_conditions  % separate permutation for each class\n",
    "                prm_ = randperm(n_trials(c1));                \n",
    "                prm = cell(1, n_pseudo);\n",
    "                splitsize = n_trials(c1) / n_pseudo;\n",
    "                for i = 1:n_pseudo\n",
    "                    idxs = floor(round((i-1)*splitsize)):floor(round((i)*splitsize))-1;\n",
    "                    prm{i} = prm_(idxs + 1);\n",
    "                end                                \n",
    "                ind = cellfun(@(x)x+sum(n_trials(1:c1-1)), prm, 'UniformOutput', 0);\n",
    "                xrange = (c1-1)*(n_pseudo-1)+1:c1*(n_pseudo-1);\n",
    "                for i = 1:length(xrange)\n",
    "                    train_indices{xrange(i)} = ind{i};\n",
    "                end\n",
    "                test_indices{c1} = ind{end};\n",
    "            end                                \n",
    "\n",
    "            % 1. Compute pseudo-trials for training and test\n",
    "            Xpseudo_train = nan(length(train_indices), n_sensors, n_time);\n",
    "            Xpseudo_test = nan(length(test_indices), n_sensors, n_time);\n",
    "            for i = 1:length(train_indices)\n",
    "                Xpseudo_train(i, :, :) = mean(X(train_indices{i}, :, :), 1);\n",
    "            end\n",
    "            for i = 1:length(test_indices)\n",
    "                Xpseudo_test(i, :, :) = mean(X(test_indices{i}, :, :), 1);\n",
    "            end\n",
    "\n",
    "\n",
    "            % 2. Whitening using the Epoch method\n",
    "            sigma_conditions = reshape(squeeze(labels_pseudo_train(1, :, n_pseudo:end))', 1, []);\n",
    "            sigma_ = nan(n_conditions, n_sensors, n_sensors);\n",
    "            for c = 1:n_conditions\n",
    "                % compute sigma for each time point, then average across time\n",
    "                tmp_ = nan(n_time, n_sensors, n_sensors);\n",
    "                for t = 1:n_time\n",
    "                    tmp_(t, :, :) = covCor(Xpseudo_train(sigma_conditions==c, :, t));\n",
    "                end\n",
    "                sigma_(c, :, :) = mean(tmp_, 1);\n",
    "            end\n",
    "            sigma = squeeze(mean(sigma_, 1));  % average across conditions\n",
    "            sigma_inv = sigma^-0.5;\n",
    "            for t = 1:n_time\n",
    "                Xpseudo_train(:, :, t) = squeeze(Xpseudo_train(:, :, t)) * sigma_inv;\n",
    "                Xpseudo_test(:, :, t) = squeeze(Xpseudo_test(:, :, t)) * sigma_inv;\n",
    "            end\n",
    "\n",
    "            for t = 1:n_time\n",
    "                for c1 = 1:n_conditions-1\n",
    "                    for c2 = c1+1:n_conditions\n",
    "                        % 3. Apply distance measure to training data\n",
    "                        data_train = Xpseudo_train(ind_pseudo_train(c1, c2, :), :, t);\n",
    "                        y_train = squeeze(labels_pseudo_train(c1, c2, :));\n",
    "                        classes = unique(y_train);\n",
    "                        % Euclidean\n",
    "                        dist_train_ec = mean(data_train(y_train==classes(1), :), 1) - ...\n",
    "                                        mean(data_train(y_train==classes(2), :), 1);\n",
    "                        % Pearson\n",
    "                        A1_ps = mean(data_train(y_train==classes(1), :), 1);\n",
    "                        B1_ps = mean(data_train(y_train==classes(2), :), 1);\n",
    "                        var_A1_ps = var(A1_ps);\n",
    "                        var_B1_ps = var(B1_ps);\n",
    "                        denom_noncv_ps = sqrt(var_A1_ps * var_B1_ps);\n",
    "\n",
    "                        % 4. Validate distance measure on testing data\n",
    "                        data_test = Xpseudo_test(ind_pseudo_test(c1, c2, :), :, t);\n",
    "                        y_test = squeeze(labels_pseudo_test(c1, c2, :));\n",
    "                        \n",
    "                        % Euclidean\n",
    "                        dist_test_ec = mean(data_test(y_test==classes(1), :), 1) - ...\n",
    "                                       mean(data_test(y_test==classes(2), :), 1);\n",
    "                        result_cv.ec_cv(s, f, c1, c2, t) = dot(dist_train_ec, dist_test_ec);\n",
    "                        % Pearson\n",
    "                        A2_ps = mean(data_test(y_test==classes(1), :), 1);\n",
    "                        B2_ps = mean(data_test(y_test==classes(2), :), 1);\n",
    "                        cov_a1b2_ps = getfield(cov(A1_ps, B2_ps), {2});\n",
    "                        cov_b1a2_ps = getfield(cov(B1_ps, A2_ps), {2});\n",
    "                        cov_ab_ps = (cov_a1b2_ps + cov_b1a2_ps) / 2;\n",
    "                        var_A12_ps = getfield(cov(A1_ps, A2_ps), {2});\n",
    "                        var_B12_ps = getfield(cov(B1_ps, B2_ps), {2});\n",
    "                        reg_factor_var = 0.1; reg_factor_denom = 0.25; % regularization\n",
    "                        denom_ps = sqrt(max(reg_factor_var * var_A1_ps, var_A12_ps) * max(reg_factor_var * var_B1_ps, var_B12_ps));\n",
    "                        denom_ps = max(reg_factor_denom * denom_noncv_ps, denom_ps);\n",
    "                        r_ps = cov_ab_ps / denom_ps; \n",
    "                        r_ps = min(max(-1, r_ps), 1);\n",
    "                        result_cv.ps_cv(s, f, c1, c2, t) = 1 - r_ps;\n",
    "                    end\n",
    "                end\n",
    "            end\n",
    "        end\n",
    "    end\n",
    "    % average across permutations\n",
    "    for c = 1:length(clfs)\n",
    "        result_cv_.(clfs{c}) = nan(n_sessions, n_perm, n_conditions, n_conditions, n_time);\n",
    "    end \n",
    "    result_cv_.ec_cv = squeeze(nanmean(result_cv.ec_cv, 2));\n",
    "    result_cv_.ps_cv = squeeze(nanmean(result_cv.ps_cv, 2));\n",
    "    result_cv = result_cv_;\n",
    "    save(fullfile(root, 'result_distance_cv.mat'), 'result')\n",
    "end"
   ]
  },
  {
   "cell_type": "markdown",
   "metadata": {},
   "source": [
    "Now we plot the cross-validated distances on top of the non-cross-validated distances:"
   ]
  },
  {
   "cell_type": "code",
   "execution_count": 9,
   "metadata": {},
   "outputs": [
    {
     "data": {
      "image/png": "[encoded data removed]",
      "text/plain": [
       "<IPython.core.display.Image object>"
      ]
     },
     "metadata": {},
     "output_type": "display_data"
    }
   ],
   "source": [
    "figure;\n",
    "subplot(211)\n",
    "hold on\n",
    "plot(-100:10:1001, squeeze(nanmean(nanmean(nanmean(result.ec, 1), 2), 3)), 'linewidth', 2)\n",
    "plot(-100:10:1001, squeeze(nanmean(nanmean(nanmean(result_cv.ec_cv, 1), 2), 3)), 'linewidth', 2)\n",
    "xlim([-100 1000])\n",
    "ylim([-10 80])\n",
    "xlabel('Time [ms]')\n",
    "ylabel('Euclidean distance')\n",
    "legend('Euclidean', 'Euclidean (c.v.)', 'location', 'East')\n",
    "box on\n",
    "subplot(212)\n",
    "hold on\n",
    "plot(-100:10:1001, squeeze(nanmean(nanmean(nanmean(result.ps, 1), 2), 3)), 'linewidth', 2)\n",
    "plot(-100:10:1001, squeeze(nanmean(nanmean(nanmean(result_cv.ps_cv, 1), 2), 3)), 'linewidth', 2)\n",
    "xlim([-100 1000])\n",
    "ylim([0 1.1])\n",
    "xlabel('Time [ms]')\n",
    "ylabel('Pearson distance')\n",
    "legend('Pearson', 'Pearson (c.v.)', 'location', 'SouthEast')\n",
    "box on"
   ]
  },
  {
   "cell_type": "markdown",
   "metadata": {},
   "source": [
    "**Euclidean distance:** with cross-validation, the Euclidean differences now approaches zero towards the end of an epoch. Thus, cross-validation removes the noise bias, which previously led to high Euclidean distances at the end of a trial despite the absence of true activation pattern differences (as indicated by decoding analyses).\n",
    "\n",
    "**Pearson distance:** with cross-validation, correlation coefficients increase and thus the Pearson distance (1−r) shows a stronger negative deflection from 1. This result is expected, as 1) cross-validation corrects for effects of noise and 2) noise generally decreases correlation coefficients."
   ]
  }
 ],
 "metadata": {
  "kernelspec": {
   "display_name": "Matlab",
   "language": "matlab",
   "name": "matlab"
  },
  "language_info": {
   "codemirror_mode": "octave",
   "file_extension": ".m",
   "help_links": [
    {
     "text": "MetaKernel Magics",
     "url": "https://github.com/calysto/metakernel/blob/master/metakernel/magics/README.md"
    }
   ],
   "mimetype": "text/x-matlab",
   "name": "matlab",
   "version": "0.14.3"
  }
 },
 "nbformat": 4,
 "nbformat_minor": 1
}
