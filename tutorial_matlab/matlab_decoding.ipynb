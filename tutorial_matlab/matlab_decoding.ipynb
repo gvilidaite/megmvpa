{
 "cells": [
  {
   "cell_type": "markdown",
   "metadata": {},
   "source": [
    "# MVPA MEG Tutorial (Matlab)"
   ]
  },
  {
   "cell_type": "markdown",
   "metadata": {},
   "source": [
    "[Tutorial starting page](https://github.com/m-guggenmos/megmvpa/).\n",
    "\n",
´´
    "**Goal of this tutorial:** compute classification accuracy time courses for a range of classifiers (i.e., MEG decoding)\n",
    "\n",
    "## Tutorial\n",
    "\n",
    "We set a seed, in order to make analyses reproducible:"
   ]
  },
  {
   "cell_type": "code",
   "execution_count": 1,
   "metadata": {
    "collapsed": true
   },
   "outputs": [],
   "source": [
    "rng(10);"
   ]
  },
  {
   "cell_type": "markdown",
   "metadata": {},
   "source": [
    "Let's load some data:"
   ]
  },
  {
   "cell_type": "code",
   "execution_count": 2,
   "metadata": {
    "collapsed": true
   },
   "outputs": [],
   "source": [
    "root = ''; % This is the /path/to the directory containing the data.\n",
    "           % We leave it empty here, because the data is located in the current directory.\n",
    "% Session 1\n",
    "load(fullfile(root, 'data01_sess1.mat'));\n",
    "load(fullfile(root, 'labels01_sess1.mat'));\n",
    "sessions(1).data = data01_sess1;\n",
    "sessions(1).labels = labels01_sess1;\n",
    "% Session 2\n",
    "load(fullfile(root, 'data01_sess2.mat'));\n",
    "load(fullfile(root, 'labels01_sess2.mat'));\n",
    "sessions(2).data = data01_sess2;\n",
    "sessions(2).labels = labels01_sess2;"
   ]
  },
  {
   "cell_type": "markdown",
   "metadata": {},
   "source": [
    "Now we set some parameters. Only the number of permutations and the number of pseudo-trials are free parameters. The number of conditions, sensors, time points and sessions are derived from the data (i.e., from the sessions variable above)."
   ]
  },
  {
   "cell_type": "code",
   "execution_count": 3,
   "metadata": {
    "collapsed": true
   },
   "outputs": [],
   "source": [
    "% Parameters\n",
    "n_perm = 20;  % number of permutations\n",
    "n_pseudo = 5;  % number of pseudo-trials\n",
    "n_conditions = length(unique(sessions(1).labels));\n",
    "n_sensors = size(sessions(1).data, 2);\n",
    "n_time = size(sessions(1).data, 3);\n",
    "n_sessions = length(sessions);"
   ]
  },
  {
   "cell_type": "markdown",
   "metadata": {},
   "source": [
    "The analytic logic is contained in a nested for loop, with loops for the number of sessions, number of permutations, number of timepoints, number of conditions, and number of conditions again. Overall, the logic contains 4 crucial steps:\n",
    "1. Compute pseudo-trials for the training and test data\n",
    "2. Whiten the training data (here using the Epoch method, which is recommended in our manuscript)\n",
    "3. Fit the classifier to the training data\n",
    "4. Compute classification accuracy on test data"
   ]
  },
  {
   "cell_type": "code",
   "execution_count": 4,
   "metadata": {
    "collapsed": true
   },
   "outputs": [],
   "source": [
    "% pre-load mechanism, for convenience\n",
    "preload_result = true; % for recomputing the decoding analyses, set to false\n",
    "if preload_result\n",
    "    load(fullfile(root, 'result_decoding.mat'))\n",
    "else\n",
    "    % We define three classifiers that will be compared: Support Vector Machine, Weighted Robust Distance,\n",
    "    % Gaussian Naive Bayes\n",
    "    clfs = {'svm', 'gnb', 'weird'};\n",
    "    for c = 1:length(clfs)\n",
    "        result.(clfs{c}) = nan(n_sessions, n_perm, n_conditions, n_conditions, n_time);\n",
    "    end\n",
    "    for s = 1:n_sessions\n",
    "\n",
    "        fprintf('Session %g / %g\\n', s, n_sessions)\n",
    "\n",
    "        X = sessions(s).data;\n",
    "        y = sessions(s).labels;\n",
    "        \n",
    "        conditions = unique(y);\n",
    "        n_trials = histc(y, conditions);\n",
    "\n",
    "        for f = 1:n_perm\n",
    "            fprintf('\\tPermutation %g / %g\\n', f, n_perm)\n",
    "            \n",
    "            % precompute permutations\n",
    "            ind_pseudo_train = nan(n_conditions, n_conditions, 2*(n_pseudo-1));\n",
    "            ind_pseudo_test = nan(n_conditions, n_conditions, 2);\n",
    "            labels_pseudo_train = nan(n_conditions, n_conditions, 2*(n_pseudo-1));\n",
    "            labels_pseudo_test = nan(n_conditions, n_conditions, 2);\n",
    "            for c1 = 1:n_conditions\n",
    "                range_c1 = (c1-1)*(n_pseudo-1)+1:c1*(n_pseudo-1);\n",
    "                for c2 = 1:n_conditions\n",
    "                    range_c2 = (c2-1)*(n_pseudo-1)+1:c2*(n_pseudo-1);\n",
    "                    ind_pseudo_train(c1, c2, 1:2*(n_pseudo - 1)) = [range_c1 range_c2];\n",
    "                    ind_pseudo_test(c1, c2, :) = [c1 c2];\n",
    "                    labels_pseudo_train(c1, c2, 1:2*(n_pseudo - 1)) = ...\n",
    "                        [conditions(c1)*ones(1,n_pseudo-1) conditions(c2)*ones(1,n_pseudo-1)];\n",
    "                    labels_pseudo_test(c1, c2, :) = conditions([c1 c2]);\n",
    "                end\n",
    "            end              \n",
    "            train_indices = cell(1, n_conditions*(n_pseudo-1));\n",
    "            test_indices = cell(1, n_conditions);\n",
    "            for c1 = 1:n_conditions  % separate permutation for each condition\n",
    "                prm_ = randperm(n_trials(c1));                \n",
    "                prm = cell(1, n_pseudo);\n",
    "                splitsize = n_trials(c1) / n_pseudo;\n",
    "                for i = 1:n_pseudo\n",
    "                    idxs = floor(round((i-1)*splitsize)):floor(round((i)*splitsize))-1;\n",
    "                    prm{i} = prm_(idxs + 1);\n",
    "                end                                \n",
    "                ind = cellfun(@(x)x+sum(n_trials(1:c1-1)), prm, 'UniformOutput', 0);\n",
    "                xrange = (c1-1)*(n_pseudo-1)+1:c1*(n_pseudo-1);\n",
    "                for i = 1:length(xrange)\n",
    "                    train_indices{xrange(i)} = ind{i};\n",
    "                end\n",
    "                test_indices{c1} = ind{end};\n",
    "            end                                \n",
    "\n",
    "            % 1. Compute pseudo-trials for training and test\n",
    "            Xpseudo_train = nan(length(train_indices), n_sensors, n_time);\n",
    "            Xpseudo_test = nan(length(test_indices), n_sensors, n_time);\n",
    "            for i = 1:length(train_indices)\n",
    "                Xpseudo_train(i, :, :) = mean(X(train_indices{i}, :, :), 1);\n",
    "            end\n",
    "            for i = 1:length(test_indices)\n",
    "                Xpseudo_test(i, :, :) = mean(X(test_indices{i}, :, :), 1);\n",
    "            end\n",
    "\n",
    "\n",
    "            % 2. Whitening using the Epoch method\n",
    "            sigma_conditions = reshape(squeeze(labels_pseudo_train(1,:,n_pseudo:end))',1,[]);\n",
    "            sigma_ = nan(n_conditions, n_sensors, n_sensors);\n",
    "            for c = 1:n_conditions\n",
    "                % compute sigma for each time point, then average across time\n",
    "                tmp_ = nan(n_time, n_sensors, n_sensors);\n",
    "                for t = 1:n_time\n",
    "                    tmp_(t, :, :) = cov1para(Xpseudo_train(sigma_conditions==c, :, t));\n",
    "                end\n",
    "                sigma_(c, :, :) = mean(tmp_, 1);\n",
    "            end\n",
    "            sigma = squeeze(mean(sigma_, 1));  % average across conditions\n",
    "            sigma_inv = sigma^-0.5;\n",
    "            for t = 1:n_time\n",
    "                Xpseudo_train(:, :, t) = squeeze(Xpseudo_train(:, :, t)) * sigma_inv;\n",
    "                Xpseudo_test(:, :, t) = squeeze(Xpseudo_test(:, :, t)) * sigma_inv;\n",
    "            end\n",
    "\n",
    "            for t = 1:n_time\n",
    "                for c1 = 1:n_conditions-1\n",
    "                    for c2 = c1+1:n_conditions\n",
    "                        % 3. Fit the classifier using training data\n",
    "                        data_train = Xpseudo_train(ind_pseudo_train(c1, c2, :), :, t);\n",
    "                        y_train = squeeze(labels_pseudo_train(c1, c2, :));\n",
    "                        model_svm = svmtrain(y_train, data_train, '-c 1 -q 0 -t 0');\n",
    "                        model_weird = weirdtrain(y_train, data_train);\n",
    "                        model_gnb = gnbtrain(y_train, data_train);\n",
    "\n",
    "                        % 4. Compute and store classification accuracies\n",
    "                        data_test = Xpseudo_test(ind_pseudo_test(c1, c2, :), :, t);\n",
    "                        y_train = squeeze(labels_pseudo_test(c1, c2, :));\n",
    "                        result.svm(s, f, c1, c2, t) = ...\n",
    "                            mean(svmpredict(y_train,data_test,model_svm,'-q 0 -t 0')==y_train)-0.5;\n",
    "                        result.weird(s, f, c1, c2, t) = ...\n",
    "                            mean(weirdpredict(y_train,data_test,model_weird)==y_train)-0.5;\n",
    "                        result.gnb(s, f, c1, c2, t) = ...\n",
    "                            mean(gnbpredict(y_train,data_test,model_gnb)==y_train)-0.5;\n",
    "                    end\n",
    "                end\n",
    "            end\n",
    "        end\n",
    "    end\n",
    "    % average across permutations\n",
    "    for c = 1:length(clfs)\n",
    "        result_.(clfs{c}) = nan(n_sessions, n_perm, n_conditions, n_conditions, n_time);\n",
    "    end \n",
    "    result_.svm = squeeze(nanmean(result.svm, 2));\n",
    "    result_.gnb = squeeze(nanmean(result.gnb, 2));\n",
    "    result_.weird = squeeze(nanmean(result.weird, 2));\n",
    "    result = result_;\n",
    "    save(fullfile(root, 'result_decoding.mat'), 'result')\n",
    "end"
   ]
  },
  {
   "cell_type": "markdown",
   "metadata": {},
   "source": [
    "Now we plot the average classification accuracy time course by collapsing across sessions and conditions:"
   ]
  },
  {
   "cell_type": "code",
   "execution_count": 5,
   "metadata": {},
   "outputs": [
    {
     "data": {
      "image/png": "iVBORw0KGgoAAAANSUhEUgAAAjAAAAGkCAIAAACgjIjwAAAACXBIWXMAAA7EAAAOxAGVKw4bAAAA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\nYII=\n",
      "text/plain": [
       "<IPython.core.display.Image object>"
      ]
     },
     "metadata": {},
     "output_type": "display_data"
    }
   ],
   "source": [
    "hold on\n",
    "plot(-100:10:1001, 100*squeeze(nanmean(nanmean(nanmean(result.svm, 1), 2), 3))+50, 'linewidth', 2)\n",
    "plot(-100:10:1001, 100*squeeze(nanmean(nanmean(nanmean(result.weird, 1), 2), 3))+50, 'linewidth', 2)\n",
    "plot(-100:10:1001, 100*squeeze(nanmean(nanmean(nanmean(result.gnb, 1), 2), 3))+50, 'linewidth', 2)\n",
    "plot([-100 1000], [50 50], 'k-')\n",
    "xlim([-100 1000])\n",
    "xlabel('Time [ms]')\n",
    "ylabel('Classification accuracy')\n",
    "legend('SVM', 'WeiRD', 'GNB')"
   ]
  },
  {
   "cell_type": "markdown",
   "metadata": {},
   "source": [
    "Already for one participant and a reduced data set (10 insteada of 92 conditions), these results look like canonical decoding time courses. Note that the period -100ms to 0ms is the baseline phase and stimulus onset is at 0ms. In this example, Support Vector Machine and WeiRD outperform Gaussian Naive Bayes."
   ]
  }
 ],
 "metadata": {
  "kernelspec": {
   "display_name": "Matlab",
   "language": "matlab",
   "name": "matlab"
  },
  "language_info": {
   "codemirror_mode": "octave",
   "file_extension": ".m",
   "help_links": [
    {
     "text": "MetaKernel Magics",
     "url": "https://github.com/calysto/metakernel/blob/master/metakernel/magics/README.md"
    }
   ],
   "mimetype": "text/x-matlab",
   "name": "matlab",
   "version": "0.14.3"
  }
 },
 "nbformat": 4,
 "nbformat_minor": 2
}
