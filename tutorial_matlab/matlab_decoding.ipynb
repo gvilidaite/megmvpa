{
 "cells": [
  {
   "cell_type": "markdown",
   "metadata": {},
   "source": [
    "# MVPA MEG Tutorial (Matlab)"
   ]
  },
  {
   "cell_type": "markdown",
   "metadata": {},
   "source": [
    "[Tutorial starting page](https://github.com/m-guggenmos/megmvpa/).\n",
    "\n",
    "This tutorial accompanies the preprint titled \"Multivariate pattern analysis for MEG: a comprehensive comparison of dissimilarity measures\", which is available at [doi.org/10.1101/172619](https://doi.org/10.1101/172619).\n",
    "\n",
    "**Goal of this tutorial:** compute classification accuracy time courses for a range of classifiers (i.e., MEG decoding)\n",
    "\n",
    "## Tutorial\n",
    "\n",
    "We set a seed, in order to make analyses reproducible:"
   ]
  },
  {
   "cell_type": "code",
   "execution_count": 1,
   "metadata": {
    "collapsed": true
   },
   "outputs": [],
   "source": [
    "rng(10);"
   ]
  },
  {
   "cell_type": "markdown",
   "metadata": {},
   "source": [
    "Let's load some data:"
   ]
  },
  {
   "cell_type": "code",
   "execution_count": 2,
   "metadata": {
    "collapsed": true
   },
   "outputs": [],
   "source": [
    "root = ''; % This is the /path/to the directory containing the data.\n",
    "           % We leave it empty here, because the data is located in the current directory.\n",
    "% Session 1\n",
    "load(fullfile(root, 'data01_sess1.mat'));\n",
    "load(fullfile(root, 'labels01_sess1.mat'));\n",
    "sessions(1).data = data01_sess1;\n",
    "sessions(1).labels = labels01_sess1;\n",
    "% Session 2\n",
    "load(fullfile(root, 'data01_sess2.mat'));\n",
    "load(fullfile(root, 'labels01_sess2.mat'));\n",
    "sessions(2).data = data01_sess2;\n",
    "sessions(2).labels = labels01_sess2;"
   ]
  },
  {
   "cell_type": "markdown",
   "metadata": {},
   "source": [
    "Now we set some parameters. Only the number of permutations and the number of pseudo-trials are free parameters. The number of conditions, sensors, time points and sessions are derived from the data (i.e., from the sessions variable above)."
   ]
  },
  {
   "cell_type": "code",
   "execution_count": 3,
   "metadata": {
    "collapsed": true
   },
   "outputs": [],
   "source": [
    "% Parameters\n",
    "n_perm = 20;  % number of permutations\n",
    "n_pseudo = 5;  % number of pseudo-trials\n",
    "n_conditions = length(unique(sessions(1).labels));\n",
    "n_sensors = size(sessions(1).data, 2);\n",
    "n_time = size(sessions(1).data, 3);\n",
    "n_sessions = length(sessions);"
   ]
  },
  {
   "cell_type": "markdown",
   "metadata": {},
   "source": [
    "The analytic logic is contained in a nested for loop, with loops for the number of sessions, number of permutations, number of timepoints, number of conditions, and number of conditions again. Overall, the logic contains 4 crucial steps:\n",
    "1. Compute pseudo-trials for the training and test data\n",
    "2. Whiten the training data (here using the Epoch method, which is recommended in our manuscript)\n",
    "3. Fit the classifier to the training data\n",
    "4. Compute classification accuracy on test data"
   ]
  },
  {
   "cell_type": "code",
   "execution_count": 4,
   "metadata": {},
   "outputs": [],
   "source": [
    "% pre-load mechanism, for convenience\n",
    "preload_result = true; % for recomputing the decoding analyses, set to false\n",
    "if preload_result\n",
    "    load(fullfile(root, 'result_decoding.mat'))\n",
    "else\n",
    "    % We define three classifiers that will be compared: Support Vector Machine, Weighted Robust Distance,\n",
    "    % Gaussian Naive Bayes\n",
    "    clfs = {'svm', 'gnb', 'weird'};\n",
    "    for c = 1:length(clfs)\n",
    "        result.(clfs{c}) = nan(n_sessions, n_perm, n_conditions, n_conditions, n_time);\n",
    "    end\n",
    "    for s = 1:n_sessions\n",
    "\n",
    "        fprintf('Session %g / %g\\n', s, n_sessions)\n",
    "\n",
    "        X = sessions(s).data;\n",
    "        y = sessions(s).labels;\n",
    "        \n",
    "        conditions = unique(y);\n",
    "        n_trials = histc(y, conditions);\n",
    "\n",
    "        for f = 1:n_perm\n",
    "            fprintf('\\tPermutation %g / %g\\n', f, n_perm)\n",
    "            \n",
    "            % precompute permutations\n",
    "            ind_pseudo_train = nan(n_conditions, n_conditions, 2*(n_pseudo-1));\n",
    "            ind_pseudo_test = nan(n_conditions, n_conditions, 2);\n",
    "            labels_pseudo_train = nan(n_conditions, n_conditions, 2*(n_pseudo-1));\n",
    "            labels_pseudo_test = nan(n_conditions, n_conditions, 2);\n",
    "            for c1 = 1:n_conditions\n",
    "                range_c1 = (c1-1)*(n_pseudo-1)+1:c1*(n_pseudo-1);\n",
    "                for c2 = 1:n_conditions\n",
    "                    range_c2 = (c2-1)*(n_pseudo-1)+1:c2*(n_pseudo-1);\n",
    "                    ind_pseudo_train(c1, c2, 1:2*(n_pseudo - 1)) = [range_c1 range_c2];\n",
    "                    ind_pseudo_test(c1, c2, :) = [c1 c2];\n",
    "                    labels_pseudo_train(c1, c2, 1:2*(n_pseudo - 1)) = ...\n",
    "                        [conditions(c1)*ones(1,n_pseudo-1) conditions(c2)*ones(1,n_pseudo-1)];\n",
    "                    labels_pseudo_test(c1, c2, :) = conditions([c1 c2]);\n",
    "                end\n",
    "            end              \n",
    "            train_indices = cell(1, n_conditions*(n_pseudo-1));\n",
    "            test_indices = cell(1, n_conditions);\n",
    "            for c1 = 1:n_conditions  % separate permutation for each class\n",
    "                prm_ = randperm(n_trials(c1));                \n",
    "                prm = cell(1, n_pseudo);\n",
    "                splitsize = n_trials(c1) / n_pseudo;\n",
    "                for i = 1:n_pseudo\n",
    "                    idxs = floor(round((i-1)*splitsize)):floor(round((i)*splitsize))-1;\n",
    "                    prm{i} = prm_(idxs + 1);\n",
    "                end                                \n",
    "                ind = cellfun(@(x)x+sum(n_trials(1:c1-1)), prm, 'UniformOutput', 0);\n",
    "                xrange = (c1-1)*(n_pseudo-1)+1:c1*(n_pseudo-1);\n",
    "                for i = 1:length(xrange)\n",
    "                    train_indices{xrange(i)} = ind{i};\n",
    "                end\n",
    "                test_indices{c1} = ind{end};\n",
    "            end                                \n",
    "\n",
    "            % 1. Compute pseudo-trials for training and test\n",
    "            Xpseudo_train = nan(length(train_indices), n_sensors, n_time);\n",
    "            Xpseudo_test = nan(length(test_indices), n_sensors, n_time);\n",
    "            for i = 1:length(train_indices)\n",
    "                Xpseudo_train(i, :, :) = mean(X(train_indices{i}, :, :), 1);\n",
    "            end\n",
    "            for i = 1:length(test_indices)\n",
    "                Xpseudo_test(i, :, :) = mean(X(test_indices{i}, :, :), 1);\n",
    "            end\n",
    "\n",
    "\n",
    "            % 2. Whitening using the Epoch method\n",
    "            sigma_conditions = reshape(squeeze(labels_pseudo_train(1,:,n_pseudo:end))',1,[]);\n",
    "            sigma_ = nan(n_conditions, n_sensors, n_sensors);\n",
    "            for c = 1:n_conditions\n",
    "                % compute sigma for each time point, then average across time\n",
    "                tmp_ = nan(n_time, n_sensors, n_sensors);\n",
    "                for t = 1:n_time\n",
    "                    tmp_(t, :, :) = covCor(Xpseudo_train(sigma_conditions==c, :, t));\n",
    "                end\n",
    "                sigma_(c, :, :) = mean(tmp_, 1);\n",
    "            end\n",
    "            sigma = squeeze(mean(sigma_, 1));  % average across conditions\n",
    "            sigma_inv = sigma^-0.5;\n",
    "            for t = 1:n_time\n",
    "                Xpseudo_train(:, :, t) = squeeze(Xpseudo_train(:, :, t)) * sigma_inv;\n",
    "                Xpseudo_test(:, :, t) = squeeze(Xpseudo_test(:, :, t)) * sigma_inv;\n",
    "            end\n",
    "\n",
    "            for t = 1:n_time\n",
    "                for c1 = 1:n_conditions-1\n",
    "                    for c2 = c1+1:n_conditions\n",
    "                        % 3. Fit the classifier using training data\n",
    "                        data_train = Xpseudo_train(ind_pseudo_train(c1, c2, :), :, t);\n",
    "                        y_train = squeeze(labels_pseudo_train(c1, c2, :));\n",
    "                        model_svm = svmtrain(y_train, data_train, '-c 1 -q 0 -t 0');\n",
    "                        model_weird = weirdtrain(y_train, data_train);\n",
    "                        model_gnb = gnbtrain(y_train, data_train);\n",
    "\n",
    "                        % 4. Compute and store classification accuracies\n",
    "                        data_test = Xpseudo_test(ind_pseudo_test(c1, c2, :), :, t);\n",
    "                        y_train = squeeze(labels_pseudo_test(c1, c2, :));\n",
    "                        result.svm(s, f, c1, c2, t) = ...\n",
    "                            mean(svmpredict(y_train,data_test,model_svm,'-q 0 -t 0')==y_train)-0.5;\n",
    "                        result.weird(s, f, c1, c2, t) = ...\n",
    "                            mean(weirdpredict(y_train,data_test,model_weird)==y_train)-0.5;\n",
    "                        result.gnb(s, f, c1, c2, t) = ...\n",
    "                            mean(gnbpredict(y_train,data_test,model_gnb)==y_train)-0.5;\n",
    "                    end\n",
    "                end\n",
    "            end\n",
    "        end\n",
    "    end\n",
    "    % average across permutations\n",
    "    for c = 1:length(clfs)\n",
    "        result_.(clfs{c}) = nan(n_sessions, n_perm, n_conditions, n_conditions, n_time);\n",
    "    end \n",
    "    result_.svm = squeeze(nanmean(result.svm, 2));\n",
    "    result_.gnb = squeeze(nanmean(result.gnb, 2));\n",
    "    result_.weird = squeeze(nanmean(result.weird, 2));\n",
    "    % result_.lda = squeeze(nanmean(result.lda, 2));\n",
    "    result = result_;\n",
    "    save(fullfile(root, 'result_decoding.mat'), 'result')\n",
    "end"
   ]
  },
  {
   "cell_type": "markdown",
   "metadata": {},
   "source": [
    "Now we plot the average classification accuracy time course by collapsing across sessions and conditions:"
   ]
  },
  {
   "cell_type": "code",
   "execution_count": 5,
   "metadata": {},
   "outputs": [
    {
     "data": {
      "image/png": "[encoded data removed]",
      "text/plain": [
       "<IPython.core.display.Image object>"
      ]
     },
     "metadata": {},
     "output_type": "display_data"
    }
   ],
   "source": [
    "hold on\n",
    "plot(-100:10:1001, 100*squeeze(nanmean(nanmean(nanmean(result.svm, 1), 2), 3))+50, 'linewidth', 2)\n",
    "plot(-100:10:1001, 100*squeeze(nanmean(nanmean(nanmean(result.weird, 1), 2), 3))+50, 'linewidth', 2)\n",
    "plot(-100:10:1001, 100*squeeze(nanmean(nanmean(nanmean(result.gnb, 1), 2), 3))+50, 'linewidth', 2)\n",
    "plot([-100 1000], [50 50], 'k-')\n",
    "xlim([-100 1000])\n",
    "xlabel('Time [ms]')\n",
    "ylabel('Classification accuracy')\n",
    "legend('SVM', 'WeiRD', 'GNB')"
   ]
  },
  {
   "cell_type": "markdown",
   "metadata": {},
   "source": [
    "Already for one participant and a reduced data set (10 insteada of 92 conditions), these results look like canonical decoding time courses. Note that the period -100ms to 0ms is the baseline phase and stimulus onset is at 0ms. In this example, Support Vector Machine and WeiRD outperform Gaussian Naive Bayes."
   ]
  }
 ],
 "metadata": {
  "kernelspec": {
   "display_name": "Matlab",
   "language": "matlab",
   "name": "matlab"
  },
  "language_info": {
   "codemirror_mode": "octave",
   "file_extension": ".m",
   "help_links": [
    {
     "text": "MetaKernel Magics",
     "url": "https://github.com/calysto/metakernel/blob/master/metakernel/magics/README.md"
    }
   ],
   "mimetype": "text/x-matlab",
   "name": "matlab",
   "version": "0.14.3"
  }
 },
 "nbformat": 4,
 "nbformat_minor": 2
}
